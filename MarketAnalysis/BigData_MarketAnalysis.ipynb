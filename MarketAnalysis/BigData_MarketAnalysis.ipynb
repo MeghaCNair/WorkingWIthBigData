{
  "cells": [
    {
      "cell_type": "code",
      "source": [
        "### Market Data Analysis\n",
        "#Vishala vemuri | Megha Chandrasekharan Nair | Mallikarjun Gudumagatte Nagaraja"
      ],
      "metadata": {
        "id": "npiqIrVdZIjE"
      },
      "id": "npiqIrVdZIjE",
      "execution_count": null,
      "outputs": []
    },
    {
      "cell_type": "code",
      "execution_count": null,
      "id": "1f571200",
      "metadata": {
        "id": "1f571200"
      },
      "outputs": [],
      "source": [
        "from pyspark.sql import SparkSession"
      ]
    },
    {
      "cell_type": "code",
      "execution_count": null,
      "id": "d0125962",
      "metadata": {
        "id": "d0125962",
        "outputId": "adc4b670-c4cd-4ec4-ad46-9a12f4645b3f"
      },
      "outputs": [
        {
          "name": "stderr",
          "output_type": "stream",
          "text": [
            "25/04/27 15:19:10 WARN SparkSession: Using an existing Spark session; only runtime SQL configurations will take effect.\n"
          ]
        }
      ],
      "source": [
        "spark = SparkSession.builder.appName(\"Security exchange Analysis\").master(\"spark://primary:7077\").getOrCreate()"
      ]
    },
    {
      "cell_type": "code",
      "execution_count": null,
      "id": "f4fdaac0",
      "metadata": {
        "id": "f4fdaac0",
        "outputId": "7710cee5-02fc-447c-b2c9-50787029595e"
      },
      "outputs": [
        {
          "name": "stderr",
          "output_type": "stream",
          "text": [
            "                                                                                \r"
          ]
        }
      ],
      "source": [
        "df = spark.read.csv(\"hdfs://primary:9000/user/xploit/input/SecurityExchange2024.csv\",header=True,inferSchema=True)"
      ]
    },
    {
      "cell_type": "code",
      "execution_count": null,
      "id": "82882a62",
      "metadata": {
        "id": "82882a62",
        "outputId": "e0595e8d-c455-4833-af3c-823f9bae78c3"
      },
      "outputs": [
        {
          "name": "stdout",
          "output_type": "stream",
          "text": [
            "+--------+--------+------+--------+--------+--------+--------------+---------+-------+------+---------+-------+------+---------------+--------------+--------------+------------------+------------------+------------------+-----------------------+\n",
            "|    Date|Security|Ticker|Exchange|McapRank|TurnRank|VolatilityRank|PriceRank|Cancels|Trades|LitTrades|OddLots|Hidden|TradesForHidden|OrderVol('000)|TradeVol('000)|      LitVol('000)|   OddLotVol('000)|   HiddenVol('000)|TradeVolForHidden('000)|\n",
            "+--------+--------+------+--------+--------+--------+--------------+---------+-------+------+---------+-------+------+---------------+--------------+--------------+------------------+------------------+------------------+-----------------------+\n",
            "|20240401|   Stock|     A|    Amex|    10.0|     3.0|           1.0|     10.0|10170.0|  22.0|     20.0|   19.0|   2.0|           22.0|       3863.62|         0.512|0.3829999999999999|             0.212|             0.129|                  0.512|\n",
            "|20240401|   Stock|     A|    Arca|    10.0|     3.0|           1.0|     10.0|22730.0|1059.0|    802.0|  934.0| 257.0|         1059.0|       562.143|        29.471|            19.041|            12.947|             10.43|                 29.471|\n",
            "|20240401|   Stock|     A|  Bats-Y|    10.0|     3.0|           1.0|     10.0|10981.0|  74.0|     51.0|   64.0|  23.0|           74.0|      2072.182|         2.151|1.4369999999999998|             1.151|0.7140000000000001|                  2.151|\n",
            "|20240401|   Stock|     A|  Bats-Z|    10.0|     3.0|           1.0|     10.0|30552.0|1870.0|   1513.0| 1727.0| 357.0|         1870.0|      2277.744|        40.408|30.407000000000004|            22.116|            10.001|                 40.408|\n",
            "|20240401|   Stock|     A|  Boston|    10.0|     3.0|           1.0|     10.0|24922.0| 103.0|     31.0|   85.0|  72.0|          103.0|      3424.402|         3.963|1.0069999999999997|2.1630000000000003|2.9560000000000004|                  3.963|\n",
            "+--------+--------+------+--------+--------+--------+--------------+---------+-------+------+---------+-------+------+---------------+--------------+--------------+------------------+------------------+------------------+-----------------------+\n",
            "only showing top 5 rows\n",
            "\n"
          ]
        }
      ],
      "source": [
        "df.show(5)  # View first 5 rows"
      ]
    },
    {
      "cell_type": "code",
      "execution_count": null,
      "id": "061a984c",
      "metadata": {
        "id": "061a984c",
        "outputId": "5faf9fcb-44d5-4a77-a06b-02ec6ac874a6"
      },
      "outputs": [
        {
          "name": "stderr",
          "output_type": "stream",
          "text": [
            "[Stage 3:================================================>        (18 + 3) / 21]\r"
          ]
        },
        {
          "name": "stdout",
          "output_type": "stream",
          "text": [
            "Total Rows: 25140855\n",
            "Total Columns: 20\n"
          ]
        },
        {
          "name": "stderr",
          "output_type": "stream",
          "text": [
            "                                                                                \r"
          ]
        }
      ],
      "source": [
        "#Basic Row and Column Counts\n",
        "print(f\"Total Rows: {df.count()}\")\n",
        "print(f\"Total Columns: {len(df.columns)}\")\n"
      ]
    },
    {
      "cell_type": "code",
      "execution_count": null,
      "id": "903d7a74",
      "metadata": {
        "id": "903d7a74"
      },
      "outputs": [],
      "source": [
        "#Rename Columns\n",
        "df = df.withColumnRenamed(\"OrderVol('000)\", \"OrderVol\") \\\n",
        "       .withColumnRenamed(\"TradeVol('000)\", \"TradeVol\") \\\n",
        "       .withColumnRenamed(\"LitVol('000)\", \"LitVol\") \\\n",
        "       .withColumnRenamed(\"OddLotVol('000)\", \"OddLotVol\") \\\n",
        "       .withColumnRenamed(\"HiddenVol('000)\", \"HiddenVol\") \\\n",
        "       .withColumnRenamed(\"TradeVolForHidden('000)\", \"TradeVolForHidden\")\n"
      ]
    },
    {
      "cell_type": "code",
      "execution_count": null,
      "id": "95f961b3",
      "metadata": {
        "id": "95f961b3",
        "outputId": "ca3b74a6-9c6d-4363-92e0-87884aab12f0"
      },
      "outputs": [
        {
          "name": "stderr",
          "output_type": "stream",
          "text": [
            "[Stage 6:======================================================>  (20 + 1) / 21]\r"
          ]
        },
        {
          "name": "stdout",
          "output_type": "stream",
          "text": [
            "++\n",
            "||\n",
            "++\n",
            "||\n",
            "++\n",
            "\n"
          ]
        },
        {
          "name": "stderr",
          "output_type": "stream",
          "text": [
            "                                                                                \r"
          ]
        }
      ],
      "source": [
        "#Missing Value Check\n",
        "from pyspark.sql.functions import col\n",
        "df.select([col(c).isNull().alias(c) for c in df.columns]).groupBy().sum().show()\n"
      ]
    },
    {
      "cell_type": "code",
      "execution_count": null,
      "id": "bd649f1a",
      "metadata": {
        "id": "bd649f1a",
        "outputId": "4b531335-3b4d-46e3-eb25-f4186d8f6cc8"
      },
      "outputs": [
        {
          "name": "stderr",
          "output_type": "stream",
          "text": [
            "25/04/27 15:20:48 WARN package: Truncated the string representation of a plan since it was too large. This behavior can be adjusted by setting 'spark.sql.debug.maxToStringFields'.\n",
            "[Stage 9:======================================================>  (20 + 1) / 21]\r"
          ]
        },
        {
          "name": "stdout",
          "output_type": "stream",
          "text": [
            "+-------+-----------------+------------------+------------------+------------------+------------------+------------------+------------------+------------------+-----------------+-----------------+-----------------+----------------+------------------+-----------------+-----------------+------------------+\n",
            "|summary|         McapRank|          TurnRank|    VolatilityRank|         PriceRank|           Cancels|            Trades|         LitTrades|           OddLots|           Hidden|  TradesForHidden|         OrderVol|        TradeVol|            LitVol|        OddLotVol|        HiddenVol| TradeVolForHidden|\n",
            "+-------+-----------------+------------------+------------------+------------------+------------------+------------------+------------------+------------------+-----------------+-----------------+-----------------+----------------+------------------+-----------------+-----------------+------------------+\n",
            "|  count|         25140290|          25140275|          25140182|          25140290|          25140855|          24661059|          22916112|          24661217|         22916112|         22916112|         23395908|        24661059|          22916112|         24661217|         22916112|          22916112|\n",
            "|   mean|4.342370553402526|  4.30492960001432|4.1848566171875765| 4.262034208833708|11749.610708466358|383.96662949470254|299.17058260144654|243.58956457826068|87.56367061742411|386.7361742690034|5723.142382933143|38.5443051683392| 31.41593257377565|5.488336541623313|7.867401899716728|39.283773084515275|\n",
            "| stddev|2.698463455611885|2.6949722140063925|2.7010555919981685|2.7368701275554668| 80409.10084951774| 2458.336246489717|  2079.74105404604| 1619.821400380195|543.0498124265812|2539.232477436053|81253.35716741948|379.800296363911|327.85173063626337|39.40698165019078|80.10769676017809| 392.6041443596351|\n",
            "|    min|              1.0|               1.0|               1.0|               1.0|               0.0|               0.0|               0.0|               0.0|          -8031.0|              0.0|              0.0|             0.0|               0.0|              0.0|        -2390.408|               0.0|\n",
            "|    max|             10.0|              10.0|              10.0|              10.0|       1.8812218E7|          878750.0|          681334.0|          594245.0|         199778.0|         878750.0|   4.6754305622E7|      353821.585|         306382.26|        16047.011|        47439.325|        353821.585|\n",
            "+-------+-----------------+------------------+------------------+------------------+------------------+------------------+------------------+------------------+-----------------+-----------------+-----------------+----------------+------------------+-----------------+-----------------+------------------+\n",
            "\n"
          ]
        },
        {
          "name": "stderr",
          "output_type": "stream",
          "text": [
            "                                                                                \r"
          ]
        }
      ],
      "source": [
        "#Basic Statistics\n",
        "numeric_cols = ['McapRank', 'TurnRank', 'VolatilityRank', 'PriceRank',\n",
        "                'Cancels', 'Trades', 'LitTrades', 'OddLots', 'Hidden', 'TradesForHidden',\n",
        "                'OrderVol', 'TradeVol', 'LitVol', 'OddLotVol', 'HiddenVol', 'TradeVolForHidden']\n",
        "df.select(numeric_cols).describe().show()\n"
      ]
    },
    {
      "cell_type": "code",
      "execution_count": null,
      "id": "ce365932",
      "metadata": {
        "id": "ce365932",
        "outputId": "bcc494f8-36e9-4db1-aec3-ec49b4ad67ad"
      },
      "outputs": [
        {
          "name": "stderr",
          "output_type": "stream",
          "text": [
            "[Stage 24:=====================================================>  (20 + 1) / 21]\r"
          ]
        },
        {
          "name": "stdout",
          "output_type": "stream",
          "text": [
            "+--------+\n",
            "|Exchange|\n",
            "+--------+\n",
            "|     IEX|\n",
            "|  Edge-A|\n",
            "|     NSX|\n",
            "|    NYSE|\n",
            "|    Arca|\n",
            "|  Nasdaq|\n",
            "|    MEMX|\n",
            "|    MIAX|\n",
            "|    Amex|\n",
            "|  Edge-X|\n",
            "|     CHX|\n",
            "|  Bats-Z|\n",
            "|    Phlx|\n",
            "|  Bats-Y|\n",
            "|  Boston|\n",
            "+--------+\n",
            "\n"
          ]
        },
        {
          "name": "stderr",
          "output_type": "stream",
          "text": [
            "                                                                                \r"
          ]
        }
      ],
      "source": [
        "#Unique Counts\n",
        "df.select(\"Security\").distinct().count()\n",
        "df.select(\"Ticker\").distinct().count()\n",
        "df.select(\"Exchange\").distinct().show()\n"
      ]
    },
    {
      "cell_type": "code",
      "execution_count": null,
      "id": "a821b80d",
      "metadata": {
        "id": "a821b80d",
        "outputId": "b91c1b46-e0c6-4ec1-a245-94e9d88ff3b3"
      },
      "outputs": [
        {
          "name": "stderr",
          "output_type": "stream",
          "text": [
            "[Stage 27:=====================================================>  (20 + 1) / 21]\r"
          ]
        },
        {
          "name": "stdout",
          "output_type": "stream",
          "text": [
            "+---------+---------+\n",
            "|min(Date)|max(Date)|\n",
            "+---------+---------+\n",
            "| 20240102| 20241231|\n",
            "+---------+---------+\n",
            "\n"
          ]
        },
        {
          "name": "stderr",
          "output_type": "stream",
          "text": [
            "                                                                                \r"
          ]
        }
      ],
      "source": [
        "#Check Date Range\n",
        "df.selectExpr(\"min(Date)\", \"max(Date)\").show()"
      ]
    },
    {
      "cell_type": "code",
      "execution_count": null,
      "id": "eb2c9c9d",
      "metadata": {
        "id": "eb2c9c9d",
        "outputId": "b1e63a82-420b-46d2-aea3-ba0866eb3c15"
      },
      "outputs": [
        {
          "name": "stderr",
          "output_type": "stream",
          "text": [
            "[Stage 30:=====================================================>  (20 + 1) / 21]\r"
          ]
        },
        {
          "name": "stdout",
          "output_type": "stream",
          "text": [
            "+------+------------+\n",
            "|Ticker| sum(Trades)|\n",
            "+------+------------+\n",
            "|  NVDA|1.64405423E8|\n",
            "|  TSLA|1.16395266E8|\n",
            "|  SOXL| 7.3844853E7|\n",
            "|  AAPL| 7.2005828E7|\n",
            "|   SPY| 7.1551106E7|\n",
            "|   AMD| 6.1968565E7|\n",
            "|  AMZN| 5.4455154E7|\n",
            "|   QQQ| 5.2208405E7|\n",
            "| GOOGL| 4.8428148E7|\n",
            "|  TQQQ| 4.4774721E7|\n",
            "+------+------------+\n",
            "only showing top 10 rows\n",
            "\n"
          ]
        },
        {
          "name": "stderr",
          "output_type": "stream",
          "text": [
            "                                                                                \r"
          ]
        }
      ],
      "source": [
        "#Top Entities\n",
        "#Most Active Stocks by Trades\n",
        "df.groupBy(\"Ticker\").sum(\"Trades\").orderBy(\"sum(Trades)\", ascending=False).show(10)\n"
      ]
    },
    {
      "cell_type": "code",
      "execution_count": null,
      "id": "661e661a",
      "metadata": {
        "id": "661e661a",
        "outputId": "3778a07b-90b3-47b4-9750-2ff51fbbab12"
      },
      "outputs": [
        {
          "name": "stderr",
          "output_type": "stream",
          "text": [
            "[Stage 33:=====================================================>  (20 + 1) / 21]\r"
          ]
        },
        {
          "name": "stdout",
          "output_type": "stream",
          "text": [
            "+--------+--------------------+\n",
            "|Exchange|       sum(TradeVol)|\n",
            "+--------+--------------------+\n",
            "|  Nasdaq|2.6767590072399512E8|\n",
            "|    Arca| 1.671439571229991E8|\n",
            "|    NYSE|1.0915784516900001E8|\n",
            "|  Edge-X|1.0143294957700078E8|\n",
            "|  Bats-Z|  9.01092699950021E7|\n",
            "|     IEX| 5.031204008300146E7|\n",
            "|    MEMX|4.9635010751001395E7|\n",
            "|    MIAX| 3.769538887100038E7|\n",
            "|  Edge-A|2.6495409946000036E7|\n",
            "|  Bats-Y| 1.677221122399942E7|\n",
            "+--------+--------------------+\n",
            "only showing top 10 rows\n",
            "\n"
          ]
        },
        {
          "name": "stderr",
          "output_type": "stream",
          "text": [
            "                                                                                \r"
          ]
        }
      ],
      "source": [
        "#Most Active Exchanges by Trade Volume\n",
        "df.groupBy(\"Exchange\").sum(\"TradeVol\").orderBy(\"sum(TradeVol)\", ascending=False).show(10)"
      ]
    },
    {
      "cell_type": "code",
      "execution_count": null,
      "id": "ed47017f",
      "metadata": {
        "id": "ed47017f",
        "outputId": "eaffc35a-11ac-4882-f5a8-f9d60a3ba969"
      },
      "outputs": [
        {
          "name": "stderr",
          "output_type": "stream",
          "text": [
            "                                                                                \r"
          ]
        }
      ],
      "source": [
        "#Basic Visualizations (using Matplotlib/Seaborn)\n",
        "#Convert Small Sample to Pandas\n",
        "sample_df = df.select(\"Exchange\", \"TradeVol\", \"OddLotVol\", \"HiddenVol\").sample(0.1).toPandas()"
      ]
    },
    {
      "cell_type": "code",
      "execution_count": null,
      "id": "845f2258",
      "metadata": {
        "id": "845f2258",
        "outputId": "321b8b8e-db48-4886-c6ca-38486d4a87b1"
      },
      "outputs": [
        {
          "name": "stderr",
          "output_type": "stream",
          "text": [
            "/home/megha/.local/lib/python3.10/site-packages/matplotlib/projections/__init__.py:63: UserWarning: Unable to import Axes3D. This may be due to multiple versions of Matplotlib being installed (e.g. as a system package and as a pip package). As a result, the 3D projection is not available.\n",
            "  warnings.warn(\"Unable to import Axes3D. This may be due to multiple versions of \"\n"
          ]
        },
        {
          "data": {
            "image/png": "[encoded data removed]",
            "text/plain": [
              "<Figure size 720x432 with 1 Axes>"
            ]
          },
          "metadata": {
            "needs_background": "light"
          },
          "output_type": "display_data"
        }
      ],
      "source": [
        "#Trade Volume per Exchange\n",
        "import matplotlib.pyplot as plt\n",
        "import seaborn as sns\n",
        "\n",
        "exchange_vol = sample_df.groupby('Exchange').sum().reset_index()\n",
        "\n",
        "plt.figure(figsize=(10,6))\n",
        "sns.barplot(x=\"TradeVol\", y=\"Exchange\", data=exchange_vol.sort_values(\"TradeVol\", ascending=False))\n",
        "plt.title(\"Total Trade Volume by Exchange\")\n",
        "plt.show()\n"
      ]
    },
    {
      "cell_type": "code",
      "execution_count": null,
      "id": "b2206165",
      "metadata": {
        "id": "b2206165",
        "outputId": "bcc36490-a42b-49cd-f677-f089762bb6b3"
      },
      "outputs": [
        {
          "data": {
            "image/png": "[encoded data removed]",
            "text/plain": [
              "<Figure size 576x432 with 1 Axes>"
            ]
          },
          "metadata": {
            "needs_background": "light"
          },
          "output_type": "display_data"
        }
      ],
      "source": [
        "#Hidden Volume vs Lit Volume\n",
        "plt.figure(figsize=(8,6))\n",
        "sns.scatterplot(x=\"HiddenVol\", y=\"TradeVol\", data=sample_df)\n",
        "plt.title(\"Hidden Vol vs Trade Vol\")\n",
        "plt.xlabel(\"Hidden Volume\")\n",
        "plt.ylabel(\"Trade Volume\")\n",
        "plt.show()\n"
      ]
    },
    {
      "cell_type": "code",
      "execution_count": null,
      "id": "27d18f6b",
      "metadata": {
        "id": "27d18f6b",
        "outputId": "8167fbeb-3457-473d-ca03-319bdfc98841"
      },
      "outputs": [
        {
          "data": {
            "image/png": "[encoded data removed]",
            "text/plain": [
              "<Figure size 720x432 with 1 Axes>"
            ]
          },
          "metadata": {
            "needs_background": "light"
          },
          "output_type": "display_data"
        }
      ],
      "source": [
        "#Odd Lot Volume % of Total Trade\n",
        "sample_df['OddLotPercent'] = (sample_df['OddLotVol'] / sample_df['TradeVol']) * 100\n",
        "\n",
        "plt.figure(figsize=(10,6))\n",
        "sns.histplot(sample_df['OddLotPercent'], bins=30, kde=True)\n",
        "plt.title(\"Distribution of Odd Lot Percentage Across Trades\")\n",
        "plt.show()\n"
      ]
    },
    {
      "cell_type": "code",
      "execution_count": null,
      "id": "e9ad3f9f",
      "metadata": {
        "id": "e9ad3f9f",
        "outputId": "f6b6e232-b46d-484f-d150-82b35377cc5a"
      },
      "outputs": [
        {
          "name": "stderr",
          "output_type": "stream",
          "text": [
            "[Stage 39:=====================================================>  (20 + 1) / 21]\r"
          ]
        },
        {
          "name": "stdout",
          "output_type": "stream",
          "text": [
            "+------+-------------------+\n",
            "|Ticker|AvgHiddenTradeRatio|\n",
            "+------+-------------------+\n",
            "|  DECM|              0.766|\n",
            "|  HYZN|              0.733|\n",
            "|  VCRM|              0.704|\n",
            "|  SOND|               0.68|\n",
            "|  HELO|              0.669|\n",
            "|  DFGX|              0.656|\n",
            "|  DGCB|              0.645|\n",
            "|  AVSC|              0.618|\n",
            "|  CRMT|              0.617|\n",
            "|  RDVI|              0.614|\n",
            "|  RECS|              0.599|\n",
            "|  IWMI|              0.598|\n",
            "|  HAUZ|              0.586|\n",
            "|  SPRE|              0.584|\n",
            "|  VCRB|              0.583|\n",
            "|  QQQI|              0.581|\n",
            "|  SMBS|              0.579|\n",
            "|  FMHI|              0.578|\n",
            "|   DDS|              0.578|\n",
            "|  DIPS|              0.578|\n",
            "+------+-------------------+\n",
            "only showing top 20 rows\n",
            "\n"
          ]
        },
        {
          "name": "stderr",
          "output_type": "stream",
          "text": [
            "                                                                                \r"
          ]
        }
      ],
      "source": [
        "#Q1. Are high volatility stocks traded more through hidden orders than regular (lit) ones?\n",
        "from pyspark.sql.functions import col, when, sum, avg, round\n",
        "\n",
        "# Step 1: Create a new column for hidden trade proportion\n",
        "df = df.withColumn(\"HiddenRatio\",\n",
        "                   when(col(\"TradeVol\") > 0,\n",
        "                        col(\"HiddenVol\") / col(\"TradeVol\"))\n",
        "                   .otherwise(0))\n",
        "\n",
        "# Step 2: Filter for only high volatility stocks (say, top 25%)\n",
        "vol_threshold = df.approxQuantile(\"VolatilityRank\", [0.25], 0.01)[0]\n",
        "high_vol_df = df.filter(col(\"VolatilityRank\") <= vol_threshold)\n",
        "\n",
        "# Step 3: Group by Ticker and get average HiddenRatio\n",
        "result = high_vol_df.groupBy(\"Ticker\").agg(\n",
        "    round(avg(\"HiddenRatio\"), 3).alias(\"AvgHiddenTradeRatio\")\n",
        ").orderBy(col(\"AvgHiddenTradeRatio\").desc())\n",
        "\n",
        "result.show()"
      ]
    },
    {
      "cell_type": "code",
      "execution_count": null,
      "id": "3f51046d",
      "metadata": {
        "id": "3f51046d",
        "outputId": "8ea06fad-f4b1-4a40-b48b-42568cc87521"
      },
      "outputs": [
        {
          "name": "stderr",
          "output_type": "stream",
          "text": [
            "25/04/27 16:03:31 WARN TaskMemoryManager: Failed to allocate a page (67108864 bytes), try again.\n",
            "25/04/27 16:03:33 WARN TaskMemoryManager: Failed to allocate a page (67108864 bytes), try again.\n",
            "[Stage 56:==============================================>           (4 + 1) / 5]\r"
          ]
        },
        {
          "name": "stdout",
          "output_type": "stream",
          "text": [
            "+------+-----------+---------+-----------+\n",
            "|Ticker|Occurrences|TotalDays|TriggerRate|\n",
            "+------+-----------+---------+-----------+\n",
            "|  SQQQ|       2160|     3780|       0.57|\n",
            "|   XLF|       1836|     3780|       0.49|\n",
            "|     F|       1600|     3780|       0.42|\n",
            "|  NVDA|       1539|     3780|       0.41|\n",
            "|   FXI|       1510|     3780|        0.4|\n",
            "|   SPY|       1498|     3780|        0.4|\n",
            "|  SOXS|       1509|     3780|        0.4|\n",
            "|   HYG|       1457|     3780|       0.39|\n",
            "|  TQQQ|       1433|     3780|       0.38|\n",
            "|  INTC|       1396|     3780|       0.37|\n",
            "|  SPXS|       1389|     3780|       0.37|\n",
            "|  PLTR|       1354|     3780|       0.36|\n",
            "|   TLT|       1369|     3780|       0.36|\n",
            "|  PLUG|       1317|     3780|       0.35|\n",
            "|  SOFI|       1323|     3780|       0.35|\n",
            "|  SOXL|       1335|     3780|       0.35|\n",
            "|   EEM|       1296|     3780|       0.34|\n",
            "|   BAC|       1281|     3780|       0.34|\n",
            "|   IWM|       1242|     3780|       0.33|\n",
            "|   QQQ|       1255|     3780|       0.33|\n",
            "+------+-----------+---------+-----------+\n",
            "only showing top 20 rows\n",
            "\n"
          ]
        },
        {
          "name": "stderr",
          "output_type": "stream",
          "text": [
            "                                                                                \r"
          ]
        }
      ],
      "source": [
        "#Q2. Are high cancellation days followed by high trade volumes for the same stock (i.e., is there “prep” before action)?\n",
        "from pyspark.sql.functions import lag, col, when, sum as _sum, count, round\n",
        "from pyspark.sql.window import Window\n",
        "\n",
        "# Step 1: Sort data for window function\n",
        "window = Window.partitionBy(\"Ticker\").orderBy(\"Date\")\n",
        "\n",
        "# Step 2: Shift cancellation data by one day\n",
        "df = df.withColumn(\"PrevDayCancels\", lag(\"Cancels\").over(window))\n",
        "\n",
        "# Step 3: Calculate if high cancels are followed by high trades\n",
        "df = df.withColumn(\"TradeVolHigh\", when(col(\"TradeVol\") > 1000, 1).otherwise(0)) \\\n",
        "       .withColumn(\"HighCancelToTrade\",\n",
        "                   when((col(\"PrevDayCancels\") > 100) & (col(\"TradeVolHigh\") == 1), 1).otherwise(0))\n",
        "\n",
        "# Step 4: Check ratio of such occurrences per ticker\n",
        "summary = df.groupBy(\"Ticker\").agg(\n",
        "    sum(\"HighCancelToTrade\").alias(\"Occurrences\"),\n",
        "    count(\"Date\").alias(\"TotalDays\")\n",
        ").withColumn(\"TriggerRate\", round(col(\"Occurrences\") / col(\"TotalDays\"), 2)) \\\n",
        " .orderBy(\"TriggerRate\", ascending=False)\n",
        "\n",
        "summary.show()"
      ]
    },
    {
      "cell_type": "code",
      "execution_count": null,
      "id": "88df23f2",
      "metadata": {
        "id": "88df23f2",
        "outputId": "49747050-90fe-4205-f032-40073a01701a"
      },
      "outputs": [
        {
          "name": "stderr",
          "output_type": "stream",
          "text": [
            "[Stage 48:=====================================================>  (20 + 1) / 21]\r"
          ]
        },
        {
          "name": "stdout",
          "output_type": "stream",
          "text": [
            "+--------+---------+--------------+-------------+-----------+\n",
            "|Exchange|YearMonth|TotalOddLotVol|TotalTradeVol|OddLotRatio|\n",
            "+--------+---------+--------------+-------------+-----------+\n",
            "|    Amex|   2024-1|      39249.19|    376366.51|     0.1043|\n",
            "|    Amex|  2024-10|      34184.38|    327054.83|     0.1045|\n",
            "|    Amex|  2024-11|      33332.44|    356477.19|     0.0935|\n",
            "|    Amex|  2024-12|      32805.73|    383468.14|     0.0856|\n",
            "|    Amex|   2024-2|      41193.37|     365067.3|     0.1128|\n",
            "|    Amex|   2024-3|      34317.03|    360847.87|     0.0951|\n",
            "|    Amex|   2024-4|      41224.47|    418937.56|     0.0984|\n",
            "|    Amex|   2024-5|      38908.09|    394517.89|     0.0986|\n",
            "|    Amex|   2024-6|       34818.8|    350717.41|     0.0993|\n",
            "|    Amex|   2024-7|      37265.65|    386435.15|     0.0964|\n",
            "|    Amex|   2024-8|      42446.07|    377216.85|     0.1125|\n",
            "|    Amex|   2024-9|       36333.1|    319223.08|     0.1138|\n",
            "|    Arca|   2024-1|    1377143.34| 1.37387831E7|     0.1002|\n",
            "|    Arca|  2024-10|    1482430.48|1.407116016E7|     0.1054|\n",
            "|    Arca|  2024-11|    1547331.08|1.490575508E7|     0.1038|\n",
            "|    Arca|  2024-12|    1653730.68|1.486698527E7|     0.1112|\n",
            "|    Arca|   2024-2|    1438101.85|1.341435093E7|     0.1072|\n",
            "|    Arca|   2024-3|    1463014.97| 1.39732515E7|     0.1047|\n",
            "|    Arca|   2024-4|    1552030.23|1.485795608E7|     0.1045|\n",
            "|    Arca|   2024-5|    1511453.97| 1.70095359E7|     0.0889|\n",
            "|    Arca|   2024-6|    1257629.41|1.162337301E7|     0.1082|\n",
            "|    Arca|   2024-7|    1506526.56|1.306878384E7|     0.1153|\n",
            "|    Arca|   2024-8|    1544659.64|1.381173672E7|     0.1118|\n",
            "|    Arca|   2024-9|    1362431.87|1.180228553E7|     0.1154|\n",
            "|  Bats-Y|   2024-1|     170165.97|   1625935.65|     0.1047|\n",
            "|  Bats-Y|  2024-10|     193345.29|   1205104.19|     0.1604|\n",
            "|  Bats-Y|  2024-11|     245775.57|   1692871.75|     0.1452|\n",
            "|  Bats-Y|  2024-12|     240493.72|   1583216.06|     0.1519|\n",
            "|  Bats-Y|   2024-2|     168618.25|   1536119.16|     0.1098|\n",
            "|  Bats-Y|   2024-3|     152700.63|   1428196.63|     0.1069|\n",
            "+--------+---------+--------------+-------------+-----------+\n",
            "only showing top 30 rows\n",
            "\n"
          ]
        },
        {
          "name": "stderr",
          "output_type": "stream",
          "text": [
            "                                                                                \r"
          ]
        }
      ],
      "source": [
        "#Q3. What percentage of trades in an exchange come from odd lots, and is that increasing over time?\n",
        "from pyspark.sql import functions as F\n",
        "from pyspark.sql.functions import concat_ws, year, month, to_date, sum as _sum, col, round\n",
        "from pyspark.sql.window import Window\n",
        "\n",
        "# ----------------------------------------\n",
        "# Step 1: Fix the Date Column\n",
        "# ----------------------------------------\n",
        "# Convert integer Date to Proper DateType\n",
        "df = df.withColumn(\"DateString\", F.col(\"Date\").cast(\"string\")) \\\n",
        "       .withColumn(\"ProperDate\", to_date(F.col(\"DateString\"), \"yyyyMMdd\"))\n",
        "\n",
        "# Create YearMonth column\n",
        "df = df.withColumn(\"YearMonth\", concat_ws(\"-\", year(\"ProperDate\"), month(\"ProperDate\")))\n",
        "\n",
        "# ----------------------------------------\n",
        "# Step 2: Group by Exchange and YearMonth\n",
        "# ----------------------------------------\n",
        "summary = df.groupBy(\"Exchange\", \"YearMonth\").agg(\n",
        "    round(_sum(col(\"OddLotVol\")),2).alias(\"TotalOddLotVol\"),\n",
        "    round(_sum(col(\"TradeVol\")),2).alias(\"TotalTradeVol\")\n",
        ")\n",
        "\n",
        "# ----------------------------------------\n",
        "# Step 3: Compute Odd Lot Proportion\n",
        "# ----------------------------------------\n",
        "summary = summary.withColumn(\n",
        "    \"OddLotRatio\",\n",
        "    round(col(\"TotalOddLotVol\") / col(\"TotalTradeVol\"), 4)\n",
        ")\n",
        "\n",
        "# ----------------------------------------\n",
        "# Step 4: Sort and Display Trend\n",
        "# ----------------------------------------\n",
        "summary.orderBy(\"Exchange\", \"YearMonth\").show(30)\n"
      ]
    }
  ],
  "metadata": {
    "kernelspec": {
      "display_name": "Python 3 (ipykernel)",
      "language": "python",
      "name": "python3"
    },
    "language_info": {
      "codemirror_mode": {
        "name": "ipython",
        "version": 3
      },
      "file_extension": ".py",
      "mimetype": "text/x-python",
      "name": "python",
      "nbconvert_exporter": "python",
      "pygments_lexer": "ipython3",
      "version": "3.10.12"
    },
    "colab": {
      "provenance": []
    }
  },
  "nbformat": 4,
  "nbformat_minor": 5
}